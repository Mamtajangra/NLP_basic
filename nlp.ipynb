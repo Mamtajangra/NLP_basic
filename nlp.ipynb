{
 "cells": [
  {
   "cell_type": "code",
   "execution_count": 18,
   "id": "16a14ee0",
   "metadata": {},
   "outputs": [],
   "source": [
    "text = \"On a cold winter morning, a young boy walked quietly through the forest. Birds chirped above, and the wind rustled the dry leaves beneath his feet. He carried a small lantern and followed the narrow path, hoping to reach the old cabin before sunset.\""
   ]
  },
  {
   "cell_type": "markdown",
   "id": "0d3851c7",
   "metadata": {},
   "source": [
    "1.                 cleaning text means change the text into lowercase and remove special character"
   ]
  },
  {
   "cell_type": "code",
   "execution_count": 19,
   "id": "445dac09",
   "metadata": {},
   "outputs": [
    {
     "name": "stdout",
     "output_type": "stream",
     "text": [
      "on a cold winter morning a young boy walked quietly through the forest birds chirped above and the wind rustled the dry leaves beneath his feet he carried a small lantern and followed the narrow path hoping to reach the old cabin before sunset\n"
     ]
    }
   ],
   "source": [
    "import re\n",
    "\n",
    "def clean_text(text):\n",
    "    text = text.lower()\n",
    "    text = text = re.sub(r'[^a-zA-Z0-9\\s]', '', text)\n",
    "    return text\n",
    "print(clean_text(text))\n"
   ]
  },
  {
   "cell_type": "markdown",
   "id": "a0b6aa62",
   "metadata": {},
   "source": [
    "2.                           tokenization = divide the pparagraph into words"
   ]
  },
  {
   "cell_type": "code",
   "execution_count": 20,
   "id": "080afbd3",
   "metadata": {},
   "outputs": [
    {
     "name": "stdout",
     "output_type": "stream",
     "text": [
      "['On', 'a', 'cold', 'winter', 'morning,', 'a', 'young', 'boy', 'walked', 'quietly', 'through', 'the', 'forest.', 'Birds', 'chirped', 'above,', 'and', 'the', 'wind', 'rustled', 'the', 'dry', 'leaves', 'beneath', 'his', 'feet.', 'He', 'carried', 'a', 'small', 'lantern', 'and', 'followed', 'the', 'narrow', 'path,', 'hoping', 'to', 'reach', 'the', 'old', 'cabin', 'before', 'sunset.']\n"
     ]
    }
   ],
   "source": [
    "tokens = text.split()\n",
    "print(tokens)"
   ]
  },
  {
   "cell_type": "code",
   "execution_count": 21,
   "id": "383eb024",
   "metadata": {},
   "outputs": [
    {
     "name": "stdout",
     "output_type": "stream",
     "text": [
      "On\n",
      "a\n",
      "cold\n",
      "winter\n",
      "morning\n",
      ",\n",
      "a\n",
      "young\n",
      "boy\n",
      "walked\n",
      "quietly\n",
      "through\n",
      "the\n",
      "forest\n",
      ".\n",
      "Birds\n",
      "chirped\n",
      "above\n",
      ",\n",
      "and\n",
      "the\n",
      "wind\n",
      "rustled\n",
      "the\n",
      "dry\n",
      "leaves\n",
      "beneath\n",
      "his\n",
      "feet\n",
      ".\n",
      "He\n",
      "carried\n",
      "a\n",
      "small\n",
      "lantern\n",
      "and\n",
      "followed\n",
      "the\n",
      "narrow\n",
      "path\n",
      ",\n",
      "hoping\n",
      "to\n",
      "reach\n",
      "the\n",
      "old\n",
      "cabin\n",
      "before\n",
      "sunset\n",
      ".\n"
     ]
    }
   ],
   "source": [
    "import spacy\n",
    "nlp = spacy.load(\"en_core_web_sm\")\n",
    "\n",
    "doc = nlp(text)\n",
    "for token in doc:\n",
    "    print(token.text)\n",
    "    \n",
    "\n"
   ]
  },
  {
   "cell_type": "markdown",
   "id": "137c1fd1",
   "metadata": {},
   "source": [
    "3.                          stopword free == remove extra common words "
   ]
  },
  {
   "cell_type": "code",
   "execution_count": 22,
   "id": "06c706b1",
   "metadata": {},
   "outputs": [
    {
     "name": "stdout",
     "output_type": "stream",
     "text": [
      "['cold', 'winter', 'morning', 'young', 'boy', 'walked', 'quietly', 'forest', 'Birds', 'chirped', 'wind', 'rustled', 'dry', 'leaves', 'beneath', 'feet', 'carried', 'small', 'lantern', 'followed', 'narrow', 'path', 'hoping', 'reach', 'old', 'cabin', 'sunset']\n"
     ]
    }
   ],
   "source": [
    "import spacy\n",
    "\n",
    "nlp = spacy.load(\"en_core_web_sm\")\n",
    "\n",
    "\n",
    "doc = nlp(text)\n",
    "\n",
    "stopword_free = []\n",
    "\n",
    "\n",
    "for token in doc:\n",
    "    if not token.is_stop:\n",
    "        if not token.is_punct:\n",
    "            stopword_free.append(token.text)\n",
    "\n",
    "print(stopword_free)\n",
    "\n",
    "\n",
    "# one line \n",
    "# stopword_free = [token.text for token in doc if not token.is_stop and not token.is_punct]\n"
   ]
  },
  {
   "cell_type": "markdown",
   "id": "ab53b47f",
   "metadata": {},
   "source": [
    "4.                  stemming == short word like studies = studi,cutting = cut"
   ]
  },
  {
   "cell_type": "code",
   "execution_count": 23,
   "id": "caa921a4",
   "metadata": {},
   "outputs": [
    {
     "name": "stderr",
     "output_type": "stream",
     "text": [
      "[nltk_data] Downloading package punkt to\n",
      "[nltk_data]     C:\\Users\\hp\\AppData\\Roaming\\nltk_data...\n",
      "[nltk_data]   Package punkt is already up-to-date!\n"
     ]
    },
    {
     "data": {
      "text/plain": [
       "True"
      ]
     },
     "execution_count": 23,
     "metadata": {},
     "output_type": "execute_result"
    }
   ],
   "source": [
    "import nltk\n",
    "nltk.download('punkt')  \n"
   ]
  },
  {
   "cell_type": "code",
   "execution_count": null,
   "id": "44a82890",
   "metadata": {},
   "outputs": [
    {
     "name": "stderr",
     "output_type": "stream",
     "text": [
      "[nltk_data] Downloading package punkt to\n",
      "[nltk_data]     C:\\Users\\hp\\AppData\\Roaming\\nltk_data...\n",
      "[nltk_data]   Package punkt is already up-to-date!\n"
     ]
    },
    {
     "data": {
      "text/plain": [
       "True"
      ]
     },
     "execution_count": 17,
     "metadata": {},
     "output_type": "execute_result"
    }
   ],
   "source": [
    "import nltk\n",
    "nltk.data.path.append(\"C:/Users/hp/AppData/Roaming/nltk_data\")  \n",
    "nltk.download('punkt')  \n"
   ]
  },
  {
   "cell_type": "code",
   "execution_count": null,
   "id": "941c8baf",
   "metadata": {},
   "outputs": [
    {
     "name": "stdout",
     "output_type": "stream",
     "text": [
      "['C:\\\\Users\\\\hp/nltk_data', 'c:\\\\Users\\\\hp\\\\AppData\\\\Local\\\\Programs\\\\Python\\\\Python312\\\\nltk_data', 'c:\\\\Users\\\\hp\\\\AppData\\\\Local\\\\Programs\\\\Python\\\\Python312\\\\share\\\\nltk_data', 'c:\\\\Users\\\\hp\\\\AppData\\\\Local\\\\Programs\\\\Python\\\\Python312\\\\lib\\\\nltk_data', 'C:\\\\Users\\\\hp\\\\AppData\\\\Roaming\\\\nltk_data', 'C:\\\\nltk_data', 'D:\\\\nltk_data', 'E:\\\\nltk_data', 'C:\\\\Users\\\\<hp>\\\\AppData\\\\Roaming\\\\nltk_data', 'C:\\\\Users\\\\hp\\\\AppData\\\\Roaming\\\\nltk_data']\n"
     ]
    }
   ],
   "source": [
    "import nltk\n",
    "print(nltk.data.path)\n"
   ]
  },
  {
   "cell_type": "code",
   "execution_count": null,
   "id": "cebc6a49",
   "metadata": {},
   "outputs": [
    {
     "name": "stdout",
     "output_type": "stream",
     "text": [
      "C:\\Users\\hp\\AppData\\Roaming\\nltk_data\\tokenizers\\punkt.zip\\punkt\\english.pickle\n"
     ]
    }
   ],
   "source": [
    "from nltk.data import find\n",
    "\n",
    "print(find('tokenizers/punkt/english.pickle'))\n"
   ]
  }
 ],
 "metadata": {
  "kernelspec": {
   "display_name": "Python 3",
   "language": "python",
   "name": "python3"
  },
  "language_info": {
   "codemirror_mode": {
    "name": "ipython",
    "version": 3
   },
   "file_extension": ".py",
   "mimetype": "text/x-python",
   "name": "python",
   "nbconvert_exporter": "python",
   "pygments_lexer": "ipython3",
   "version": "3.12.0"
  }
 },
 "nbformat": 4,
 "nbformat_minor": 5
}
